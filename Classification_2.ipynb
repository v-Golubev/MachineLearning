{
 "cells": [
  {
   "cell_type": "code",
   "execution_count": 150,
   "id": "8be134e2",
   "metadata": {},
   "outputs": [],
   "source": [
    "import numpy as np\n",
    "import matplotlib.pyplot as plt\n",
    "import pandas as pd\n",
    "import seaborn as sns\n",
    "import sklearn\n",
    "from sklearn.neighbors import KNeighborsClassifier\n",
    "from sklearn.model_selection import GridSearchCV\n",
    "from sklearn.svm import SVC\n",
    "from sklearn import ensemble\n",
    "%matplotlib inline"
   ]
  },
  {
   "cell_type": "markdown",
   "id": "138037e8",
   "metadata": {},
   "source": [
    "Прочитаем датасет и выполним его препроцессинг:"
   ]
  },
  {
   "cell_type": "code",
   "execution_count": 151,
   "id": "dfcb5eea",
   "metadata": {},
   "outputs": [],
   "source": [
    "data = pd.read_csv(\"dataset.csv\")\n",
    "\n",
    "# бинарные признаки\n",
    "data[\"housing\"] = data[\"housing\"] == \"yes\"\n",
    "data[\"loan\"] = data[\"loan\"] == \"yes\"\n",
    "data[\"y\"] = data[\"y\"] == \"yes\"\n",
    "\n",
    "# Категориальные признаки\n",
    "data[\"job\"] = data[\"job\"].astype(\"category\")\n",
    "data[\"marital\"] = data[\"marital\"].astype(\"category\")\n",
    "data[\"education\"] = data[\"education\"].astype(\"category\")\n",
    "data[\"contact\"] = data[\"contact\"].astype(\"category\")\n",
    "data[\"month\"] = data[\"month\"].astype(\"category\")\n",
    "\n",
    "data = data.drop([\"default\"], axis = 1)\n",
    "data = data.drop([\"poutcome\"], axis = 1)\n",
    "data = data.replace(\"unknown\", np.NaN)\n",
    "\n",
    "# Заполнение модой пропущенных значений\n",
    "data[\"job\"].fillna(data[\"job\"].mode().iloc[0], inplace = True)\n",
    "data[\"education\"].fillna(data[\"education\"].mode().iloc[0], inplace = True)\n",
    "data[\"contact\"].fillna(data[\"contact\"].mode().iloc[0], inplace = True)\n",
    "\n",
    "numerical_columns = [c for c in data.columns if data[c].dtype.name == 'int64']"
   ]
  },
  {
   "cell_type": "markdown",
   "id": "537066f9",
   "metadata": {},
   "source": [
    "## Обработка категориальных значений\n",
    "\n",
    "Для обработки категориальных признаков **job**, **marital**, **education**, **month** будем использовать бинаризацию:"
   ]
  },
  {
   "cell_type": "code",
   "execution_count": 152,
   "id": "493f5ea6",
   "metadata": {},
   "outputs": [
    {
     "data": {
      "text/html": [
       "<div>\n",
       "<style scoped>\n",
       "    .dataframe tbody tr th:only-of-type {\n",
       "        vertical-align: middle;\n",
       "    }\n",
       "\n",
       "    .dataframe tbody tr th {\n",
       "        vertical-align: top;\n",
       "    }\n",
       "\n",
       "    .dataframe thead th {\n",
       "        text-align: right;\n",
       "    }\n",
       "</style>\n",
       "<table border=\"1\" class=\"dataframe\">\n",
       "  <thead>\n",
       "    <tr style=\"text-align: right;\">\n",
       "      <th></th>\n",
       "      <th>admin.</th>\n",
       "      <th>blue-collar</th>\n",
       "      <th>entrepreneur</th>\n",
       "      <th>housemaid</th>\n",
       "      <th>management</th>\n",
       "      <th>retired</th>\n",
       "      <th>self-employed</th>\n",
       "      <th>services</th>\n",
       "      <th>student</th>\n",
       "      <th>technician</th>\n",
       "      <th>...</th>\n",
       "      <th>dec</th>\n",
       "      <th>feb</th>\n",
       "      <th>jan</th>\n",
       "      <th>jul</th>\n",
       "      <th>jun</th>\n",
       "      <th>mar</th>\n",
       "      <th>may</th>\n",
       "      <th>nov</th>\n",
       "      <th>oct</th>\n",
       "      <th>sep</th>\n",
       "    </tr>\n",
       "  </thead>\n",
       "  <tbody>\n",
       "    <tr>\n",
       "      <th>0</th>\n",
       "      <td>0</td>\n",
       "      <td>0</td>\n",
       "      <td>0</td>\n",
       "      <td>0</td>\n",
       "      <td>1</td>\n",
       "      <td>0</td>\n",
       "      <td>0</td>\n",
       "      <td>0</td>\n",
       "      <td>0</td>\n",
       "      <td>0</td>\n",
       "      <td>...</td>\n",
       "      <td>0</td>\n",
       "      <td>0</td>\n",
       "      <td>0</td>\n",
       "      <td>0</td>\n",
       "      <td>0</td>\n",
       "      <td>0</td>\n",
       "      <td>1</td>\n",
       "      <td>0</td>\n",
       "      <td>0</td>\n",
       "      <td>0</td>\n",
       "    </tr>\n",
       "    <tr>\n",
       "      <th>1</th>\n",
       "      <td>0</td>\n",
       "      <td>0</td>\n",
       "      <td>0</td>\n",
       "      <td>0</td>\n",
       "      <td>0</td>\n",
       "      <td>0</td>\n",
       "      <td>0</td>\n",
       "      <td>0</td>\n",
       "      <td>0</td>\n",
       "      <td>1</td>\n",
       "      <td>...</td>\n",
       "      <td>0</td>\n",
       "      <td>0</td>\n",
       "      <td>0</td>\n",
       "      <td>0</td>\n",
       "      <td>0</td>\n",
       "      <td>0</td>\n",
       "      <td>1</td>\n",
       "      <td>0</td>\n",
       "      <td>0</td>\n",
       "      <td>0</td>\n",
       "    </tr>\n",
       "    <tr>\n",
       "      <th>2</th>\n",
       "      <td>0</td>\n",
       "      <td>0</td>\n",
       "      <td>1</td>\n",
       "      <td>0</td>\n",
       "      <td>0</td>\n",
       "      <td>0</td>\n",
       "      <td>0</td>\n",
       "      <td>0</td>\n",
       "      <td>0</td>\n",
       "      <td>0</td>\n",
       "      <td>...</td>\n",
       "      <td>0</td>\n",
       "      <td>0</td>\n",
       "      <td>0</td>\n",
       "      <td>0</td>\n",
       "      <td>0</td>\n",
       "      <td>0</td>\n",
       "      <td>1</td>\n",
       "      <td>0</td>\n",
       "      <td>0</td>\n",
       "      <td>0</td>\n",
       "    </tr>\n",
       "    <tr>\n",
       "      <th>3</th>\n",
       "      <td>0</td>\n",
       "      <td>1</td>\n",
       "      <td>0</td>\n",
       "      <td>0</td>\n",
       "      <td>0</td>\n",
       "      <td>0</td>\n",
       "      <td>0</td>\n",
       "      <td>0</td>\n",
       "      <td>0</td>\n",
       "      <td>0</td>\n",
       "      <td>...</td>\n",
       "      <td>0</td>\n",
       "      <td>0</td>\n",
       "      <td>0</td>\n",
       "      <td>0</td>\n",
       "      <td>0</td>\n",
       "      <td>0</td>\n",
       "      <td>1</td>\n",
       "      <td>0</td>\n",
       "      <td>0</td>\n",
       "      <td>0</td>\n",
       "    </tr>\n",
       "    <tr>\n",
       "      <th>4</th>\n",
       "      <td>0</td>\n",
       "      <td>1</td>\n",
       "      <td>0</td>\n",
       "      <td>0</td>\n",
       "      <td>0</td>\n",
       "      <td>0</td>\n",
       "      <td>0</td>\n",
       "      <td>0</td>\n",
       "      <td>0</td>\n",
       "      <td>0</td>\n",
       "      <td>...</td>\n",
       "      <td>0</td>\n",
       "      <td>0</td>\n",
       "      <td>0</td>\n",
       "      <td>0</td>\n",
       "      <td>0</td>\n",
       "      <td>0</td>\n",
       "      <td>1</td>\n",
       "      <td>0</td>\n",
       "      <td>0</td>\n",
       "      <td>0</td>\n",
       "    </tr>\n",
       "  </tbody>\n",
       "</table>\n",
       "<p>5 rows × 26 columns</p>\n",
       "</div>"
      ],
      "text/plain": [
       "   admin.  blue-collar  entrepreneur  housemaid  management  retired  \\\n",
       "0       0            0             0          0           1        0   \n",
       "1       0            0             0          0           0        0   \n",
       "2       0            0             1          0           0        0   \n",
       "3       0            1             0          0           0        0   \n",
       "4       0            1             0          0           0        0   \n",
       "\n",
       "   self-employed  services  student  technician  ...  dec  feb  jan  jul  jun  \\\n",
       "0              0         0        0           0  ...    0    0    0    0    0   \n",
       "1              0         0        0           1  ...    0    0    0    0    0   \n",
       "2              0         0        0           0  ...    0    0    0    0    0   \n",
       "3              0         0        0           0  ...    0    0    0    0    0   \n",
       "4              0         0        0           0  ...    0    0    0    0    0   \n",
       "\n",
       "   mar  may  nov  oct  sep  \n",
       "0    0    1    0    0    0  \n",
       "1    0    1    0    0    0  \n",
       "2    0    1    0    0    0  \n",
       "3    0    1    0    0    0  \n",
       "4    0    1    0    0    0  \n",
       "\n",
       "[5 rows x 26 columns]"
      ]
     },
     "execution_count": 152,
     "metadata": {},
     "output_type": "execute_result"
    }
   ],
   "source": [
    "categorial_table = pd.concat((pd.get_dummies(data['job']), pd.get_dummies(data['marital']), pd.get_dummies(data['month'])), axis = 1)\n",
    "categorial_table.head()"
   ]
  },
  {
   "cell_type": "markdown",
   "id": "a4e0ec1d",
   "metadata": {},
   "source": [
    "## Обработка бинарных значений\n",
    "\n",
    "Бинарные признаки **housing**, **loan**, **y** заменим на числовые:"
   ]
  },
  {
   "cell_type": "code",
   "execution_count": 153,
   "id": "11d3d62e",
   "metadata": {},
   "outputs": [
    {
     "data": {
      "text/html": [
       "<div>\n",
       "<style scoped>\n",
       "    .dataframe tbody tr th:only-of-type {\n",
       "        vertical-align: middle;\n",
       "    }\n",
       "\n",
       "    .dataframe tbody tr th {\n",
       "        vertical-align: top;\n",
       "    }\n",
       "\n",
       "    .dataframe thead th {\n",
       "        text-align: right;\n",
       "    }\n",
       "</style>\n",
       "<table border=\"1\" class=\"dataframe\">\n",
       "  <thead>\n",
       "    <tr style=\"text-align: right;\">\n",
       "      <th></th>\n",
       "      <th>housing</th>\n",
       "      <th>loan</th>\n",
       "      <th>y</th>\n",
       "    </tr>\n",
       "  </thead>\n",
       "  <tbody>\n",
       "    <tr>\n",
       "      <th>0</th>\n",
       "      <td>0</td>\n",
       "      <td>0</td>\n",
       "      <td>0</td>\n",
       "    </tr>\n",
       "    <tr>\n",
       "      <th>1</th>\n",
       "      <td>0</td>\n",
       "      <td>0</td>\n",
       "      <td>0</td>\n",
       "    </tr>\n",
       "    <tr>\n",
       "      <th>2</th>\n",
       "      <td>0</td>\n",
       "      <td>1</td>\n",
       "      <td>0</td>\n",
       "    </tr>\n",
       "    <tr>\n",
       "      <th>3</th>\n",
       "      <td>0</td>\n",
       "      <td>0</td>\n",
       "      <td>0</td>\n",
       "    </tr>\n",
       "    <tr>\n",
       "      <th>4</th>\n",
       "      <td>1</td>\n",
       "      <td>0</td>\n",
       "      <td>0</td>\n",
       "    </tr>\n",
       "  </tbody>\n",
       "</table>\n",
       "</div>"
      ],
      "text/plain": [
       "   housing  loan  y\n",
       "0        0     0  0\n",
       "1        0     0  0\n",
       "2        0     1  0\n",
       "3        0     0  0\n",
       "4        1     0  0"
      ]
     },
     "execution_count": 153,
     "metadata": {},
     "output_type": "execute_result"
    }
   ],
   "source": [
    "data['housing'] = pd.factorize(data['housing'])[0]\n",
    "data['loan'] = pd.factorize(data['loan'])[0]\n",
    "data['y'] = pd.factorize(data['y'])[0]\n",
    "\n",
    "bin_table=pd.concat((data['housing'], data['loan'], data['y']), axis = 1)\n",
    "bin_table.head()"
   ]
  },
  {
   "cell_type": "markdown",
   "id": "a70a5954",
   "metadata": {},
   "source": [
    "## Нормализация количественных признаков\n",
    "\n",
    "Стандартизуем количественные признаки:"
   ]
  },
  {
   "cell_type": "code",
   "execution_count": 154,
   "id": "67abacb2",
   "metadata": {},
   "outputs": [
    {
     "data": {
      "text/html": [
       "<div>\n",
       "<style scoped>\n",
       "    .dataframe tbody tr th:only-of-type {\n",
       "        vertical-align: middle;\n",
       "    }\n",
       "\n",
       "    .dataframe tbody tr th {\n",
       "        vertical-align: top;\n",
       "    }\n",
       "\n",
       "    .dataframe thead th {\n",
       "        text-align: right;\n",
       "    }\n",
       "</style>\n",
       "<table border=\"1\" class=\"dataframe\">\n",
       "  <thead>\n",
       "    <tr style=\"text-align: right;\">\n",
       "      <th></th>\n",
       "      <th>age</th>\n",
       "      <th>balance</th>\n",
       "      <th>day</th>\n",
       "      <th>duration</th>\n",
       "      <th>campaign</th>\n",
       "      <th>pdays</th>\n",
       "      <th>previous</th>\n",
       "    </tr>\n",
       "  </thead>\n",
       "  <tbody>\n",
       "    <tr>\n",
       "      <th>0</th>\n",
       "      <td>1.606947</td>\n",
       "      <td>0.256416</td>\n",
       "      <td>-1.298462</td>\n",
       "      <td>0.011016</td>\n",
       "      <td>-0.569344</td>\n",
       "      <td>-0.411449</td>\n",
       "      <td>-0.251938</td>\n",
       "    </tr>\n",
       "    <tr>\n",
       "      <th>1</th>\n",
       "      <td>0.288526</td>\n",
       "      <td>-0.437890</td>\n",
       "      <td>-1.298462</td>\n",
       "      <td>-0.416122</td>\n",
       "      <td>-0.569344</td>\n",
       "      <td>-0.411449</td>\n",
       "      <td>-0.251938</td>\n",
       "    </tr>\n",
       "    <tr>\n",
       "      <th>2</th>\n",
       "      <td>-0.747376</td>\n",
       "      <td>-0.446758</td>\n",
       "      <td>-1.298462</td>\n",
       "      <td>-0.707353</td>\n",
       "      <td>-0.569344</td>\n",
       "      <td>-0.411449</td>\n",
       "      <td>-0.251938</td>\n",
       "    </tr>\n",
       "    <tr>\n",
       "      <th>3</th>\n",
       "      <td>0.571045</td>\n",
       "      <td>0.047205</td>\n",
       "      <td>-1.298462</td>\n",
       "      <td>-0.645224</td>\n",
       "      <td>-0.569344</td>\n",
       "      <td>-0.411449</td>\n",
       "      <td>-0.251938</td>\n",
       "    </tr>\n",
       "    <tr>\n",
       "      <th>4</th>\n",
       "      <td>-0.747376</td>\n",
       "      <td>-0.447086</td>\n",
       "      <td>-1.298462</td>\n",
       "      <td>-0.233618</td>\n",
       "      <td>-0.569344</td>\n",
       "      <td>-0.411449</td>\n",
       "      <td>-0.251938</td>\n",
       "    </tr>\n",
       "  </tbody>\n",
       "</table>\n",
       "</div>"
      ],
      "text/plain": [
       "        age   balance       day  duration  campaign     pdays  previous\n",
       "0  1.606947  0.256416 -1.298462  0.011016 -0.569344 -0.411449 -0.251938\n",
       "1  0.288526 -0.437890 -1.298462 -0.416122 -0.569344 -0.411449 -0.251938\n",
       "2 -0.747376 -0.446758 -1.298462 -0.707353 -0.569344 -0.411449 -0.251938\n",
       "3  0.571045  0.047205 -1.298462 -0.645224 -0.569344 -0.411449 -0.251938\n",
       "4 -0.747376 -0.447086 -1.298462 -0.233618 -0.569344 -0.411449 -0.251938"
      ]
     },
     "execution_count": 154,
     "metadata": {},
     "output_type": "execute_result"
    }
   ],
   "source": [
    "data_num_stand = (data[numerical_columns] - data[numerical_columns].mean(axis = 0)) / data[numerical_columns].std(axis = 0)\n",
    "data_num_stand.head()"
   ]
  },
  {
   "cell_type": "code",
   "execution_count": 155,
   "id": "08b00a8b",
   "metadata": {},
   "outputs": [
    {
     "data": {
      "text/html": [
       "<div>\n",
       "<style scoped>\n",
       "    .dataframe tbody tr th:only-of-type {\n",
       "        vertical-align: middle;\n",
       "    }\n",
       "\n",
       "    .dataframe tbody tr th {\n",
       "        vertical-align: top;\n",
       "    }\n",
       "\n",
       "    .dataframe thead th {\n",
       "        text-align: right;\n",
       "    }\n",
       "</style>\n",
       "<table border=\"1\" class=\"dataframe\">\n",
       "  <thead>\n",
       "    <tr style=\"text-align: right;\">\n",
       "      <th></th>\n",
       "      <th>age</th>\n",
       "      <th>balance</th>\n",
       "      <th>day</th>\n",
       "      <th>duration</th>\n",
       "      <th>campaign</th>\n",
       "      <th>pdays</th>\n",
       "      <th>previous</th>\n",
       "    </tr>\n",
       "  </thead>\n",
       "  <tbody>\n",
       "    <tr>\n",
       "      <th>count</th>\n",
       "      <td>4.521100e+04</td>\n",
       "      <td>4.521100e+04</td>\n",
       "      <td>4.521100e+04</td>\n",
       "      <td>4.521100e+04</td>\n",
       "      <td>4.521100e+04</td>\n",
       "      <td>4.521100e+04</td>\n",
       "      <td>4.521100e+04</td>\n",
       "    </tr>\n",
       "    <tr>\n",
       "      <th>mean</th>\n",
       "      <td>2.135579e-16</td>\n",
       "      <td>-4.067535e-16</td>\n",
       "      <td>-3.063960e-14</td>\n",
       "      <td>-5.313654e-17</td>\n",
       "      <td>1.723756e-14</td>\n",
       "      <td>1.057063e-13</td>\n",
       "      <td>-1.007183e-13</td>\n",
       "    </tr>\n",
       "    <tr>\n",
       "      <th>std</th>\n",
       "      <td>1.000000e+00</td>\n",
       "      <td>1.000000e+00</td>\n",
       "      <td>1.000000e+00</td>\n",
       "      <td>1.000000e+00</td>\n",
       "      <td>1.000000e+00</td>\n",
       "      <td>1.000000e+00</td>\n",
       "      <td>1.000000e+00</td>\n",
       "    </tr>\n",
       "    <tr>\n",
       "      <th>min</th>\n",
       "      <td>-2.159970e+00</td>\n",
       "      <td>-3.081114e+00</td>\n",
       "      <td>-1.779088e+00</td>\n",
       "      <td>-1.002467e+00</td>\n",
       "      <td>-5.693443e-01</td>\n",
       "      <td>-4.114486e-01</td>\n",
       "      <td>-2.519376e-01</td>\n",
       "    </tr>\n",
       "    <tr>\n",
       "      <th>25%</th>\n",
       "      <td>-7.473762e-01</td>\n",
       "      <td>-4.237673e-01</td>\n",
       "      <td>-9.379923e-01</td>\n",
       "      <td>-6.025100e-01</td>\n",
       "      <td>-5.693443e-01</td>\n",
       "      <td>-4.114486e-01</td>\n",
       "      <td>-2.519376e-01</td>\n",
       "    </tr>\n",
       "    <tr>\n",
       "      <th>50%</th>\n",
       "      <td>-1.823386e-01</td>\n",
       "      <td>-3.002766e-01</td>\n",
       "      <td>2.326005e-02</td>\n",
       "      <td>-3.035132e-01</td>\n",
       "      <td>-2.465576e-01</td>\n",
       "      <td>-4.114486e-01</td>\n",
       "      <td>-2.519376e-01</td>\n",
       "    </tr>\n",
       "    <tr>\n",
       "      <th>75%</th>\n",
       "      <td>6.652178e-01</td>\n",
       "      <td>2.158719e-02</td>\n",
       "      <td>6.240428e-01</td>\n",
       "      <td>2.362344e-01</td>\n",
       "      <td>7.622910e-02</td>\n",
       "      <td>-4.114486e-01</td>\n",
       "      <td>-2.519376e-01</td>\n",
       "    </tr>\n",
       "    <tr>\n",
       "      <th>max</th>\n",
       "      <td>5.091346e+00</td>\n",
       "      <td>3.309441e+01</td>\n",
       "      <td>1.825608e+00</td>\n",
       "      <td>1.809450e+01</td>\n",
       "      <td>1.944343e+01</td>\n",
       "      <td>8.297339e+00</td>\n",
       "      <td>1.191347e+02</td>\n",
       "    </tr>\n",
       "  </tbody>\n",
       "</table>\n",
       "</div>"
      ],
      "text/plain": [
       "                age       balance           day      duration      campaign  \\\n",
       "count  4.521100e+04  4.521100e+04  4.521100e+04  4.521100e+04  4.521100e+04   \n",
       "mean   2.135579e-16 -4.067535e-16 -3.063960e-14 -5.313654e-17  1.723756e-14   \n",
       "std    1.000000e+00  1.000000e+00  1.000000e+00  1.000000e+00  1.000000e+00   \n",
       "min   -2.159970e+00 -3.081114e+00 -1.779088e+00 -1.002467e+00 -5.693443e-01   \n",
       "25%   -7.473762e-01 -4.237673e-01 -9.379923e-01 -6.025100e-01 -5.693443e-01   \n",
       "50%   -1.823386e-01 -3.002766e-01  2.326005e-02 -3.035132e-01 -2.465576e-01   \n",
       "75%    6.652178e-01  2.158719e-02  6.240428e-01  2.362344e-01  7.622910e-02   \n",
       "max    5.091346e+00  3.309441e+01  1.825608e+00  1.809450e+01  1.944343e+01   \n",
       "\n",
       "              pdays      previous  \n",
       "count  4.521100e+04  4.521100e+04  \n",
       "mean   1.057063e-13 -1.007183e-13  \n",
       "std    1.000000e+00  1.000000e+00  \n",
       "min   -4.114486e-01 -2.519376e-01  \n",
       "25%   -4.114486e-01 -2.519376e-01  \n",
       "50%   -4.114486e-01 -2.519376e-01  \n",
       "75%   -4.114486e-01 -2.519376e-01  \n",
       "max    8.297339e+00  1.191347e+02  "
      ]
     },
     "execution_count": 155,
     "metadata": {},
     "output_type": "execute_result"
    }
   ],
   "source": [
    "data_num_stand.describe()"
   ]
  },
  {
   "cell_type": "markdown",
   "id": "912b9996",
   "metadata": {},
   "source": [
    "## Формирование выборок\n",
    "\n",
    "Объединим обработанные данные в одну таблицу:"
   ]
  },
  {
   "cell_type": "code",
   "execution_count": 156,
   "id": "8a8dff83",
   "metadata": {},
   "outputs": [
    {
     "data": {
      "text/html": [
       "<div>\n",
       "<style scoped>\n",
       "    .dataframe tbody tr th:only-of-type {\n",
       "        vertical-align: middle;\n",
       "    }\n",
       "\n",
       "    .dataframe tbody tr th {\n",
       "        vertical-align: top;\n",
       "    }\n",
       "\n",
       "    .dataframe thead th {\n",
       "        text-align: right;\n",
       "    }\n",
       "</style>\n",
       "<table border=\"1\" class=\"dataframe\">\n",
       "  <thead>\n",
       "    <tr style=\"text-align: right;\">\n",
       "      <th></th>\n",
       "      <th>age</th>\n",
       "      <th>balance</th>\n",
       "      <th>day</th>\n",
       "      <th>duration</th>\n",
       "      <th>campaign</th>\n",
       "      <th>pdays</th>\n",
       "      <th>previous</th>\n",
       "      <th>housing</th>\n",
       "      <th>loan</th>\n",
       "      <th>y</th>\n",
       "      <th>...</th>\n",
       "      <th>dec</th>\n",
       "      <th>feb</th>\n",
       "      <th>jan</th>\n",
       "      <th>jul</th>\n",
       "      <th>jun</th>\n",
       "      <th>mar</th>\n",
       "      <th>may</th>\n",
       "      <th>nov</th>\n",
       "      <th>oct</th>\n",
       "      <th>sep</th>\n",
       "    </tr>\n",
       "  </thead>\n",
       "  <tbody>\n",
       "    <tr>\n",
       "      <th>0</th>\n",
       "      <td>1.606947</td>\n",
       "      <td>0.256416</td>\n",
       "      <td>-1.298462</td>\n",
       "      <td>0.011016</td>\n",
       "      <td>-0.569344</td>\n",
       "      <td>-0.411449</td>\n",
       "      <td>-0.251938</td>\n",
       "      <td>0</td>\n",
       "      <td>0</td>\n",
       "      <td>0</td>\n",
       "      <td>...</td>\n",
       "      <td>0</td>\n",
       "      <td>0</td>\n",
       "      <td>0</td>\n",
       "      <td>0</td>\n",
       "      <td>0</td>\n",
       "      <td>0</td>\n",
       "      <td>1</td>\n",
       "      <td>0</td>\n",
       "      <td>0</td>\n",
       "      <td>0</td>\n",
       "    </tr>\n",
       "    <tr>\n",
       "      <th>1</th>\n",
       "      <td>0.288526</td>\n",
       "      <td>-0.437890</td>\n",
       "      <td>-1.298462</td>\n",
       "      <td>-0.416122</td>\n",
       "      <td>-0.569344</td>\n",
       "      <td>-0.411449</td>\n",
       "      <td>-0.251938</td>\n",
       "      <td>0</td>\n",
       "      <td>0</td>\n",
       "      <td>0</td>\n",
       "      <td>...</td>\n",
       "      <td>0</td>\n",
       "      <td>0</td>\n",
       "      <td>0</td>\n",
       "      <td>0</td>\n",
       "      <td>0</td>\n",
       "      <td>0</td>\n",
       "      <td>1</td>\n",
       "      <td>0</td>\n",
       "      <td>0</td>\n",
       "      <td>0</td>\n",
       "    </tr>\n",
       "    <tr>\n",
       "      <th>2</th>\n",
       "      <td>-0.747376</td>\n",
       "      <td>-0.446758</td>\n",
       "      <td>-1.298462</td>\n",
       "      <td>-0.707353</td>\n",
       "      <td>-0.569344</td>\n",
       "      <td>-0.411449</td>\n",
       "      <td>-0.251938</td>\n",
       "      <td>0</td>\n",
       "      <td>1</td>\n",
       "      <td>0</td>\n",
       "      <td>...</td>\n",
       "      <td>0</td>\n",
       "      <td>0</td>\n",
       "      <td>0</td>\n",
       "      <td>0</td>\n",
       "      <td>0</td>\n",
       "      <td>0</td>\n",
       "      <td>1</td>\n",
       "      <td>0</td>\n",
       "      <td>0</td>\n",
       "      <td>0</td>\n",
       "    </tr>\n",
       "    <tr>\n",
       "      <th>3</th>\n",
       "      <td>0.571045</td>\n",
       "      <td>0.047205</td>\n",
       "      <td>-1.298462</td>\n",
       "      <td>-0.645224</td>\n",
       "      <td>-0.569344</td>\n",
       "      <td>-0.411449</td>\n",
       "      <td>-0.251938</td>\n",
       "      <td>0</td>\n",
       "      <td>0</td>\n",
       "      <td>0</td>\n",
       "      <td>...</td>\n",
       "      <td>0</td>\n",
       "      <td>0</td>\n",
       "      <td>0</td>\n",
       "      <td>0</td>\n",
       "      <td>0</td>\n",
       "      <td>0</td>\n",
       "      <td>1</td>\n",
       "      <td>0</td>\n",
       "      <td>0</td>\n",
       "      <td>0</td>\n",
       "    </tr>\n",
       "    <tr>\n",
       "      <th>4</th>\n",
       "      <td>-0.747376</td>\n",
       "      <td>-0.447086</td>\n",
       "      <td>-1.298462</td>\n",
       "      <td>-0.233618</td>\n",
       "      <td>-0.569344</td>\n",
       "      <td>-0.411449</td>\n",
       "      <td>-0.251938</td>\n",
       "      <td>1</td>\n",
       "      <td>0</td>\n",
       "      <td>0</td>\n",
       "      <td>...</td>\n",
       "      <td>0</td>\n",
       "      <td>0</td>\n",
       "      <td>0</td>\n",
       "      <td>0</td>\n",
       "      <td>0</td>\n",
       "      <td>0</td>\n",
       "      <td>1</td>\n",
       "      <td>0</td>\n",
       "      <td>0</td>\n",
       "      <td>0</td>\n",
       "    </tr>\n",
       "  </tbody>\n",
       "</table>\n",
       "<p>5 rows × 36 columns</p>\n",
       "</div>"
      ],
      "text/plain": [
       "        age   balance       day  duration  campaign     pdays  previous  \\\n",
       "0  1.606947  0.256416 -1.298462  0.011016 -0.569344 -0.411449 -0.251938   \n",
       "1  0.288526 -0.437890 -1.298462 -0.416122 -0.569344 -0.411449 -0.251938   \n",
       "2 -0.747376 -0.446758 -1.298462 -0.707353 -0.569344 -0.411449 -0.251938   \n",
       "3  0.571045  0.047205 -1.298462 -0.645224 -0.569344 -0.411449 -0.251938   \n",
       "4 -0.747376 -0.447086 -1.298462 -0.233618 -0.569344 -0.411449 -0.251938   \n",
       "\n",
       "   housing  loan  y  ...  dec  feb  jan  jul  jun  mar  may  nov  oct  sep  \n",
       "0        0     0  0  ...    0    0    0    0    0    0    1    0    0    0  \n",
       "1        0     0  0  ...    0    0    0    0    0    0    1    0    0    0  \n",
       "2        0     1  0  ...    0    0    0    0    0    0    1    0    0    0  \n",
       "3        0     0  0  ...    0    0    0    0    0    0    1    0    0    0  \n",
       "4        1     0  0  ...    0    0    0    0    0    0    1    0    0    0  \n",
       "\n",
       "[5 rows x 36 columns]"
      ]
     },
     "execution_count": 156,
     "metadata": {},
     "output_type": "execute_result"
    }
   ],
   "source": [
    "data_stand = pd.concat((data_num_stand, bin_table, categorial_table), axis = 1)\n",
    "data_stand.head()"
   ]
  },
  {
   "cell_type": "markdown",
   "id": "f9632301",
   "metadata": {},
   "source": [
    "Поскольку ранее было принято решение избавиться от признака, характеризующего успех предыдущих маркетинговых кампаний, удалим из итоговой таблицы признаки **pdays** и **previous**."
   ]
  },
  {
   "cell_type": "code",
   "execution_count": 157,
   "id": "c2abec08",
   "metadata": {},
   "outputs": [
    {
     "data": {
      "text/html": [
       "<div>\n",
       "<style scoped>\n",
       "    .dataframe tbody tr th:only-of-type {\n",
       "        vertical-align: middle;\n",
       "    }\n",
       "\n",
       "    .dataframe tbody tr th {\n",
       "        vertical-align: top;\n",
       "    }\n",
       "\n",
       "    .dataframe thead th {\n",
       "        text-align: right;\n",
       "    }\n",
       "</style>\n",
       "<table border=\"1\" class=\"dataframe\">\n",
       "  <thead>\n",
       "    <tr style=\"text-align: right;\">\n",
       "      <th></th>\n",
       "      <th>age</th>\n",
       "      <th>balance</th>\n",
       "      <th>day</th>\n",
       "      <th>duration</th>\n",
       "      <th>campaign</th>\n",
       "      <th>housing</th>\n",
       "      <th>loan</th>\n",
       "      <th>admin.</th>\n",
       "      <th>blue-collar</th>\n",
       "      <th>entrepreneur</th>\n",
       "      <th>...</th>\n",
       "      <th>dec</th>\n",
       "      <th>feb</th>\n",
       "      <th>jan</th>\n",
       "      <th>jul</th>\n",
       "      <th>jun</th>\n",
       "      <th>mar</th>\n",
       "      <th>may</th>\n",
       "      <th>nov</th>\n",
       "      <th>oct</th>\n",
       "      <th>sep</th>\n",
       "    </tr>\n",
       "  </thead>\n",
       "  <tbody>\n",
       "    <tr>\n",
       "      <th>0</th>\n",
       "      <td>1.606947</td>\n",
       "      <td>0.256416</td>\n",
       "      <td>-1.298462</td>\n",
       "      <td>0.011016</td>\n",
       "      <td>-0.569344</td>\n",
       "      <td>0</td>\n",
       "      <td>0</td>\n",
       "      <td>0</td>\n",
       "      <td>0</td>\n",
       "      <td>0</td>\n",
       "      <td>...</td>\n",
       "      <td>0</td>\n",
       "      <td>0</td>\n",
       "      <td>0</td>\n",
       "      <td>0</td>\n",
       "      <td>0</td>\n",
       "      <td>0</td>\n",
       "      <td>1</td>\n",
       "      <td>0</td>\n",
       "      <td>0</td>\n",
       "      <td>0</td>\n",
       "    </tr>\n",
       "    <tr>\n",
       "      <th>1</th>\n",
       "      <td>0.288526</td>\n",
       "      <td>-0.437890</td>\n",
       "      <td>-1.298462</td>\n",
       "      <td>-0.416122</td>\n",
       "      <td>-0.569344</td>\n",
       "      <td>0</td>\n",
       "      <td>0</td>\n",
       "      <td>0</td>\n",
       "      <td>0</td>\n",
       "      <td>0</td>\n",
       "      <td>...</td>\n",
       "      <td>0</td>\n",
       "      <td>0</td>\n",
       "      <td>0</td>\n",
       "      <td>0</td>\n",
       "      <td>0</td>\n",
       "      <td>0</td>\n",
       "      <td>1</td>\n",
       "      <td>0</td>\n",
       "      <td>0</td>\n",
       "      <td>0</td>\n",
       "    </tr>\n",
       "    <tr>\n",
       "      <th>2</th>\n",
       "      <td>-0.747376</td>\n",
       "      <td>-0.446758</td>\n",
       "      <td>-1.298462</td>\n",
       "      <td>-0.707353</td>\n",
       "      <td>-0.569344</td>\n",
       "      <td>0</td>\n",
       "      <td>1</td>\n",
       "      <td>0</td>\n",
       "      <td>0</td>\n",
       "      <td>1</td>\n",
       "      <td>...</td>\n",
       "      <td>0</td>\n",
       "      <td>0</td>\n",
       "      <td>0</td>\n",
       "      <td>0</td>\n",
       "      <td>0</td>\n",
       "      <td>0</td>\n",
       "      <td>1</td>\n",
       "      <td>0</td>\n",
       "      <td>0</td>\n",
       "      <td>0</td>\n",
       "    </tr>\n",
       "    <tr>\n",
       "      <th>3</th>\n",
       "      <td>0.571045</td>\n",
       "      <td>0.047205</td>\n",
       "      <td>-1.298462</td>\n",
       "      <td>-0.645224</td>\n",
       "      <td>-0.569344</td>\n",
       "      <td>0</td>\n",
       "      <td>0</td>\n",
       "      <td>0</td>\n",
       "      <td>1</td>\n",
       "      <td>0</td>\n",
       "      <td>...</td>\n",
       "      <td>0</td>\n",
       "      <td>0</td>\n",
       "      <td>0</td>\n",
       "      <td>0</td>\n",
       "      <td>0</td>\n",
       "      <td>0</td>\n",
       "      <td>1</td>\n",
       "      <td>0</td>\n",
       "      <td>0</td>\n",
       "      <td>0</td>\n",
       "    </tr>\n",
       "    <tr>\n",
       "      <th>4</th>\n",
       "      <td>-0.747376</td>\n",
       "      <td>-0.447086</td>\n",
       "      <td>-1.298462</td>\n",
       "      <td>-0.233618</td>\n",
       "      <td>-0.569344</td>\n",
       "      <td>1</td>\n",
       "      <td>0</td>\n",
       "      <td>0</td>\n",
       "      <td>1</td>\n",
       "      <td>0</td>\n",
       "      <td>...</td>\n",
       "      <td>0</td>\n",
       "      <td>0</td>\n",
       "      <td>0</td>\n",
       "      <td>0</td>\n",
       "      <td>0</td>\n",
       "      <td>0</td>\n",
       "      <td>1</td>\n",
       "      <td>0</td>\n",
       "      <td>0</td>\n",
       "      <td>0</td>\n",
       "    </tr>\n",
       "  </tbody>\n",
       "</table>\n",
       "<p>5 rows × 33 columns</p>\n",
       "</div>"
      ],
      "text/plain": [
       "        age   balance       day  duration  campaign  housing  loan  admin.  \\\n",
       "0  1.606947  0.256416 -1.298462  0.011016 -0.569344        0     0       0   \n",
       "1  0.288526 -0.437890 -1.298462 -0.416122 -0.569344        0     0       0   \n",
       "2 -0.747376 -0.446758 -1.298462 -0.707353 -0.569344        0     1       0   \n",
       "3  0.571045  0.047205 -1.298462 -0.645224 -0.569344        0     0       0   \n",
       "4 -0.747376 -0.447086 -1.298462 -0.233618 -0.569344        1     0       0   \n",
       "\n",
       "   blue-collar  entrepreneur  ...  dec  feb  jan  jul  jun  mar  may  nov  \\\n",
       "0            0             0  ...    0    0    0    0    0    0    1    0   \n",
       "1            0             0  ...    0    0    0    0    0    0    1    0   \n",
       "2            0             1  ...    0    0    0    0    0    0    1    0   \n",
       "3            1             0  ...    0    0    0    0    0    0    1    0   \n",
       "4            1             0  ...    0    0    0    0    0    0    1    0   \n",
       "\n",
       "   oct  sep  \n",
       "0    0    0  \n",
       "1    0    0  \n",
       "2    0    0  \n",
       "3    0    0  \n",
       "4    0    0  \n",
       "\n",
       "[5 rows x 33 columns]"
      ]
     },
     "execution_count": 157,
     "metadata": {},
     "output_type": "execute_result"
    }
   ],
   "source": [
    "y = data_stand['y']\n",
    "X = data_stand.drop(['pdays', 'previous','y'], axis = 1)\n",
    "X.head()"
   ]
  },
  {
   "cell_type": "markdown",
   "id": "15315342",
   "metadata": {},
   "source": [
    "Данные для обучения и тестирования разобьем в соотношении 4:1."
   ]
  },
  {
   "cell_type": "code",
   "execution_count": 158,
   "id": "88d62f30",
   "metadata": {},
   "outputs": [
    {
     "name": "stdout",
     "output_type": "stream",
     "text": [
      "36168 9043\n"
     ]
    }
   ],
   "source": [
    "from sklearn.model_selection import train_test_split\n",
    "X_train, X_test, y_train, y_test = train_test_split(X, y, test_size = 0.2)\n",
    "\n",
    "N_train, _ = X_train.shape \n",
    "N_test,  _ = X_test.shape \n",
    "\n",
    "print(N_train, N_test)"
   ]
  },
  {
   "cell_type": "markdown",
   "id": "eb83e636",
   "metadata": {},
   "source": [
    "## Обучение MLPClassifier\n",
    "\n",
    "Построим классификатор с одним скрытым слоем и натренируем его"
   ]
  },
  {
   "cell_type": "code",
   "execution_count": 159,
   "id": "ac8c4600",
   "metadata": {},
   "outputs": [
    {
     "data": {
      "text/plain": [
       "MLPClassifier(hidden_layer_sizes=(1,), max_iter=2000, random_state=24,\n",
       "              solver='lbfgs')"
      ]
     },
     "execution_count": 159,
     "metadata": {},
     "output_type": "execute_result"
    }
   ],
   "source": [
    "from sklearn.neural_network import MLPClassifier\n",
    "\n",
    "mlp_model = MLPClassifier(hidden_layer_sizes = (1,),\n",
    "                          solver = 'lbfgs', \n",
    "                          activation = 'relu',\n",
    "                          random_state = 24,\n",
    "                          max_iter=2000)\n",
    "mlp_model.fit(X_train, y_train)"
   ]
  },
  {
   "cell_type": "markdown",
   "id": "51223c76",
   "metadata": {},
   "source": [
    "Ошибка на обучающей и тестовой выборках:"
   ]
  },
  {
   "cell_type": "code",
   "execution_count": 160,
   "id": "cc3c7836",
   "metadata": {},
   "outputs": [
    {
     "data": {
      "text/plain": [
       "(0.10628179606281796, 0.10870286409377419)"
      ]
     },
     "execution_count": 160,
     "metadata": {},
     "output_type": "execute_result"
    }
   ],
   "source": [
    "y_train_pred = mlp_model.predict(X_train)\n",
    "y_test_pred = mlp_model.predict(X_test)\n",
    "np.mean(y_train != y_train_pred), np.mean(y_test != y_test_pred)"
   ]
  },
  {
   "cell_type": "markdown",
   "id": "a2bdda3f",
   "metadata": {},
   "source": [
    "Далее натренируем классификатор с двумя скрытыми слоями:"
   ]
  },
  {
   "cell_type": "code",
   "execution_count": 161,
   "id": "60a7e48b",
   "metadata": {},
   "outputs": [
    {
     "data": {
      "text/plain": [
       "MLPClassifier(hidden_layer_sizes=(2,), max_iter=2000, random_state=24,\n",
       "              solver='lbfgs')"
      ]
     },
     "execution_count": 161,
     "metadata": {},
     "output_type": "execute_result"
    }
   ],
   "source": [
    "mlp_model = MLPClassifier(hidden_layer_sizes = (2,),\n",
    "                          solver = 'lbfgs', \n",
    "                          activation = 'relu',\n",
    "                          random_state = 24,\n",
    "                          max_iter=2000)\n",
    "mlp_model.fit(X_train, y_train)"
   ]
  },
  {
   "cell_type": "markdown",
   "id": "00d93054",
   "metadata": {},
   "source": [
    "Ошибка на обучающей и тестовой выборках:"
   ]
  },
  {
   "cell_type": "code",
   "execution_count": 162,
   "id": "a2e00275",
   "metadata": {},
   "outputs": [
    {
     "data": {
      "text/plain": [
       "(0.10431873479318735, 0.1070441225257105)"
      ]
     },
     "execution_count": 162,
     "metadata": {},
     "output_type": "execute_result"
    }
   ],
   "source": [
    "y_train_pred = mlp_model.predict(X_train)\n",
    "y_test_pred = mlp_model.predict(X_test)\n",
    "np.mean(y_train != y_train_pred), np.mean(y_test != y_test_pred)"
   ]
  },
  {
   "cell_type": "markdown",
   "id": "0523f301",
   "metadata": {},
   "source": [
    "### Зависимость ошибки от параметра alpha"
   ]
  },
  {
   "cell_type": "code",
   "execution_count": 163,
   "id": "3f4a905c",
   "metadata": {},
   "outputs": [],
   "source": [
    "alpha_arr = np.logspace(-4, 3, 50)\n",
    "test_err = []\n",
    "train_err = []\n",
    "for alpha in alpha_arr:\n",
    "    mlp_model = MLPClassifier(hidden_layer_sizes = (2,),\n",
    "                          solver = 'lbfgs', \n",
    "                          activation = 'relu',\n",
    "                          random_state = 24,\n",
    "                          max_iter=2000,\n",
    "                          alpha = alpha)\n",
    "    mlp_model.fit(X_train, y_train)\n",
    "\n",
    "    y_train_pred = mlp_model.predict(X_train)\n",
    "    y_test_pred = mlp_model.predict(X_test)\n",
    "\n",
    "    train_err.append(np.mean(y_train != y_train_pred))\n",
    "    test_err.append(np.mean(y_test != y_test_pred))"
   ]
  },
  {
   "cell_type": "code",
   "execution_count": 164,
   "id": "5f34b763",
   "metadata": {},
   "outputs": [
    {
     "data": {
      "image/png": "[encoded data removed]",
      "text/plain": [
       "<Figure size 432x288 with 1 Axes>"
      ]
     },
     "metadata": {
      "needs_background": "light"
     },
     "output_type": "display_data"
    }
   ],
   "source": [
    "plt.semilogx(alpha_arr, train_err, 'r-o', label = 'train')\n",
    "plt.semilogx(alpha_arr, test_err, 'b-o', label = 'test')\n",
    "plt.xlim([np.max(alpha_arr), np.min(alpha_arr)])\n",
    "\n",
    "plt.xlabel('alpha')\n",
    "plt.ylabel('error')\n",
    "plt.legend()\n",
    "pass"
   ]
  },
  {
   "cell_type": "markdown",
   "id": "0a23dd85",
   "metadata": {},
   "source": [
    "Видно, что при значении alpha > 50 происходит недообучение, поскольку наблюдается большая ошибка как на обучающей, так и на тестовой выборке. Выведем минимальное значение ошибки и оптимальное значение alpha:"
   ]
  },
  {
   "cell_type": "code",
   "execution_count": 166,
   "id": "be2aafc4",
   "metadata": {},
   "outputs": [
    {
     "name": "stdout",
     "output_type": "stream",
     "text": [
      "0.1041804910418049 0.10627004312728076\n",
      "[1.38949549]\n"
     ]
    }
   ],
   "source": [
    "min_train_err = np.min(train_err)\n",
    "min_test_err = np.min(test_err)\n",
    "print(min_train_err, min_test_err)\n",
    "\n",
    "alpha_opt = alpha_arr[test_err == min_test_err]\n",
    "print(alpha_opt)"
   ]
  },
  {
   "cell_type": "markdown",
   "id": "94dbf9a1",
   "metadata": {},
   "source": [
    "### Зависимость ошибки от количества нейронов в скрытом слое"
   ]
  },
  {
   "cell_type": "code",
   "execution_count": 167,
   "id": "2c70ab3f",
   "metadata": {},
   "outputs": [],
   "source": [
    "neuron_numbers = np.array([5, 8, 10, 12, 15, 20, 25, 30, 40, 50, 70, 100])\n",
    "test_err = []\n",
    "train_err = []\n",
    "for neuron_number in neuron_numbers:\n",
    "    mlp_model = MLPClassifier(hidden_layer_sizes = (2, neuron_number),\n",
    "                          solver = 'lbfgs', \n",
    "                          activation = 'relu',\n",
    "                          random_state = 22,\n",
    "                          max_iter=2000,\n",
    "                          alpha = alpha_opt)\n",
    "    mlp_model.fit(X_train, y_train)\n",
    "\n",
    "    y_train_pred = mlp_model.predict(X_train)\n",
    "    y_test_pred = mlp_model.predict(X_test)\n",
    "\n",
    "    train_err.append(np.mean(y_train != y_train_pred))\n",
    "    test_err.append(np.mean(y_test != y_test_pred))"
   ]
  },
  {
   "cell_type": "code",
   "execution_count": 168,
   "id": "ba870500",
   "metadata": {},
   "outputs": [
    {
     "data": {
      "image/png": "[encoded data removed]",
      "text/plain": [
       "<Figure size 432x288 with 1 Axes>"
      ]
     },
     "metadata": {
      "needs_background": "light"
     },
     "output_type": "display_data"
    }
   ],
   "source": [
    "plt.semilogx(neuron_numbers, train_err, 'r-o', label = 'train')\n",
    "plt.semilogx(neuron_numbers, test_err, 'b-o', label = 'test')\n",
    "plt.xlim([np.min(neuron_numbers), np.max(neuron_numbers)])\n",
    "\n",
    "plt.title('Error vs. neuron number')\n",
    "plt.xlabel('neuron number')\n",
    "plt.ylabel('error')\n",
    "plt.legend()\n",
    "pass"
   ]
  },
  {
   "cell_type": "markdown",
   "id": "4c257611",
   "metadata": {},
   "source": [
    "Видно, что при количестве нейронов в скрых слоях, меньшем 100, наблюдаются колебания на тестовой и обучающей выборках  \n",
    "Минимальное значение ошибки и оптимальное количество нейронов в скрытом слое:"
   ]
  },
  {
   "cell_type": "code",
   "execution_count": 169,
   "id": "77fde9f2",
   "metadata": {},
   "outputs": [
    {
     "name": "stdout",
     "output_type": "stream",
     "text": [
      "0.10147091351470913 0.10549596372885105\n",
      "[20]\n"
     ]
    }
   ],
   "source": [
    "min_train_err = np.min(train_err)\n",
    "min_test_err = np.min(test_err)\n",
    "print(min_train_err, min_test_err)\n",
    "\n",
    "neuron_num_opt = neuron_numbers[test_err == min_test_err]\n",
    "print(neuron_num_opt)"
   ]
  },
  {
   "cell_type": "markdown",
   "id": "0c8c748f",
   "metadata": {},
   "source": [
    "### Зависимость ошибки от количества скрытых слоёв"
   ]
  },
  {
   "cell_type": "code",
   "execution_count": 173,
   "id": "097cec9a",
   "metadata": {},
   "outputs": [],
   "source": [
    "layer_numbers = np.array([1, 2, 3, 5, 10, 15])\n",
    "test_err = []\n",
    "train_err = []\n",
    "for ln in layer_numbers:\n",
    "    mlp_model = MLPClassifier(hidden_layer_sizes = (ln, neuron_num_opt[0]),\n",
    "                          solver = 'lbfgs', \n",
    "                          activation = 'relu',\n",
    "                          random_state = 22,\n",
    "                          max_iter=5000,\n",
    "                          alpha = alpha_opt)\n",
    "    mlp_model.fit(X_train, y_train)\n",
    "\n",
    "    y_train_pred = mlp_model.predict(X_train)\n",
    "    y_test_pred = mlp_model.predict(X_test)\n",
    "\n",
    "    train_err.append(np.mean(y_train != y_train_pred))\n",
    "    test_err.append(np.mean(y_test != y_test_pred))"
   ]
  },
  {
   "cell_type": "code",
   "execution_count": 174,
   "id": "5862991a",
   "metadata": {},
   "outputs": [
    {
     "data": {
      "image/png": "[encoded data removed]",
      "text/plain": [
       "<Figure size 432x288 with 1 Axes>"
      ]
     },
     "metadata": {
      "needs_background": "light"
     },
     "output_type": "display_data"
    }
   ],
   "source": [
    "plt.semilogx(layer_numbers, train_err, 'r-o', label = 'train')\n",
    "plt.semilogx(layer_numbers, test_err, 'b-o', label = 'test')\n",
    "plt.xlim([np.min(layer_numbers), np.max(layer_numbers)])\n",
    "\n",
    "plt.title('Error vs. layer_numbers')\n",
    "plt.xlabel('layer_numbers')\n",
    "plt.ylabel('error')\n",
    "plt.legend()\n",
    "pass"
   ]
  },
  {
   "cell_type": "markdown",
   "id": "dbf0d5f8",
   "metadata": {},
   "source": [
    "Из построенного графика видно, что количестве скрытых слоёв, больших 5, наблюдается переобучение, поскольку ошибка на обучающей выборке уменьшается, а на тестовой - увеличивается. Оптимальное количество скрытых слоев и ошибка на тестовой и обучающей выборках при данном значении параметра:"
   ]
  },
  {
   "cell_type": "code",
   "execution_count": 175,
   "id": "a5f609e5",
   "metadata": {},
   "outputs": [
    {
     "name": "stdout",
     "output_type": "stream",
     "text": [
      "0.08479871709798717 0.09952449408382175\n",
      "[5]\n"
     ]
    }
   ],
   "source": [
    "min_train_err = np.min(train_err)\n",
    "min_test_err = np.min(test_err)\n",
    "print(min_train_err, min_test_err)\n",
    "\n",
    "layer_number_opt = layer_numbers[test_err == min_test_err]\n",
    "print(layer_number_opt)"
   ]
  },
  {
   "cell_type": "markdown",
   "id": "ed4ab97c",
   "metadata": {},
   "source": [
    "### Выводы\n",
    "\n",
    "В данной работе были проделаны эксперименты с MLP классификатором. Эксперементальным путем были подобраны параметр alpha, количество скрытых слоёв и количество нейронов в скрытом слое. Полученные данные были проанализированы на предмет выявления переобучения и недообучения при некоторых значениях параметров"
   ]
  }
 ],
 "metadata": {
  "interpreter": {
   "hash": "b3ba2566441a7c06988d0923437866b63cedc61552a5af99d1f4fb67d367b25f"
  },
  "kernelspec": {
   "display_name": "Python 3.8.8 64-bit ('base': conda)",
   "name": "python3"
  },
  "language_info": {
   "codemirror_mode": {
    "name": "ipython",
    "version": 3
   },
   "file_extension": ".py",
   "mimetype": "text/x-python",
   "name": "python",
   "nbconvert_exporter": "python",
   "pygments_lexer": "ipython3",
   "version": "3.8.8"
  }
 },
 "nbformat": 4,
 "nbformat_minor": 5
}
